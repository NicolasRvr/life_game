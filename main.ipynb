{
 "cells": [
  {
   "cell_type": "code",
   "execution_count": 1,
   "metadata": {},
   "outputs": [],
   "source": [
    "from src.board import Board\n",
    "from src.entity import Entity\n",
    "\n",
    "%load_ext autoreload\n",
    "%autoreload 2\n",
    "\n",
    "%matplotlib inline"
   ]
  },
  {
   "cell_type": "code",
   "execution_count": 228,
   "metadata": {},
   "outputs": [],
   "source": [
    "import matplotlib.pyplot as plt\n",
    "import numpy as np\n",
    "\n",
    "def grid(size):\n",
    "    li, co = *size,\n",
    "    x, y = np.meshgrid(np.arange(-0.5, li, 0.5)[::2], np.arange(-0.5, co, 0.5)[::2])\n",
    "    z, k = np.meshgrid(np.arange(-0.5, co, 0.5)[::2], np.arange(-0.5, li, 0.5)[::2])\n",
    "    fig, ax = plt.subplots(dpi=100, layout=\"constrained\")\n",
    "    ax.plot(y, -x, c='k', lw=0.5)\n",
    "    ax.plot(z, -k, c='k', lw=0.5)\n",
    "    return fig, ax\n",
    "\n",
    "\n",
    "def plot(board, save_fig=False ,title=None, loc='data'):\n",
    "    size = board.shape\n",
    "    fig, ax = grid(size)\n",
    "    for i in range(size[0]):\n",
    "        for j in range(size[1]):\n",
    "            if board[i, j] == 1:\n",
    "                ax.add_patch(plt.Rectangle(((j-0.5), -(i-0.5)), 1, -1, facecolor='pink', edgecolor='black'))\n",
    "    ax.axis('off')\n",
    "    plt.yticks([])\n",
    "    plt.xticks([])\n",
    "    plt.axis('equal')\n",
    "    if title is not None:\n",
    "        plt.title(title)\n",
    "    if save_fig:\n",
    "        path = os.path.join(loc, f'{title}.png')\n",
    "        plt.savefig(path)\n",
    "    return None"
   ]
  },
  {
   "cell_type": "code",
   "execution_count": 252,
   "metadata": {},
   "outputs": [
    {
     "data": {
      "image/png": "[encoded data removed]",
      "text/plain": [
       "<Figure size 640x480 with 1 Axes>"
      ]
     },
     "metadata": {},
     "output_type": "display_data"
    }
   ],
   "source": [
    "test = Board((30, 60), Entity.canon(), offset = (2, 10))\n",
    "test.plot()"
   ]
  },
  {
   "cell_type": "code",
   "execution_count": 254,
   "metadata": {},
   "outputs": [],
   "source": [
    "test.animate(n_max = 100)"
   ]
  },
  {
   "cell_type": "code",
   "execution_count": null,
   "metadata": {},
   "outputs": [],
   "source": []
  }
 ],
 "metadata": {
  "kernelspec": {
   "display_name": "Python 3.9.7 ('venv': venv)",
   "language": "python",
   "name": "python3"
  },
  "language_info": {
   "codemirror_mode": {
    "name": "ipython",
    "version": 3
   },
   "file_extension": ".py",
   "mimetype": "text/x-python",
   "name": "python",
   "nbconvert_exporter": "python",
   "pygments_lexer": "ipython3",
   "version": "3.9.7"
  },
  "orig_nbformat": 4,
  "vscode": {
   "interpreter": {
    "hash": "2f223b0de2e5a44de3b2f237694af9168238769fee15925033e088dcda64a3cc"
   }
  }
 },
 "nbformat": 4,
 "nbformat_minor": 2
}
